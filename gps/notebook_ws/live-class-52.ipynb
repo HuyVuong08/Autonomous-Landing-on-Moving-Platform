{
 "cells": [
  {
   "cell_type": "markdown",
   "metadata": {},
   "source": [
    "<img src=\"images/logos/TClogo.png\">"
   ]
  },
  {
   "cell_type": "markdown",
   "metadata": {},
   "source": [
    "### in colaboration with"
   ]
  },
  {
   "cell_type": "markdown",
   "metadata": {},
   "source": [
    "<img src=\"images/robotnik.png\">"
   ]
  },
  {
   "cell_type": "markdown",
   "metadata": {},
   "source": [
    "### presents"
   ]
  },
  {
   "cell_type": "markdown",
   "metadata": {},
   "source": [
    "# ROS Developers Live Class n52\n",
    "\n",
    "# How to localize a robot with GPS using the *robot_localization* package"
   ]
  },
  {
   "cell_type": "markdown",
   "metadata": {},
   "source": [
    "This notebook is additional material for the **ROS Developers Live Class n.52** created and provided for free by **Alberto Ezquerro** and **Ricardo Tellez** of <a href=\"www.theconstructsim.com\">The Construct</a>. You can distribute this notebook as long as you provide copy of this paragraph with it."
   ]
  },
  {
   "cell_type": "markdown",
   "metadata": {},
   "source": [
    "## Why this class?"
   ]
  },
  {
   "cell_type": "markdown",
   "metadata": {},
   "source": [
    "In today's live class, we are going to learn the following contents:\n",
    "1. Why to use a GPS for robot navigation\n",
    "2. Why do we need other sensors on top of GPS\n",
    "3. How to use the *robot_localization* package for GPS localization\n",
    "\n",
    "Pre-requisites for this live class are:\n",
    "* Basic knowledge of ROS concepts such as topics, publish and subscribe, ROS Service\n",
    "* Know how to configure the *robot_localization* package for sensor fusion of **odometry** and **IMU**. <a href=\"https://www.youtube.com/watch?v=QZ5q59H2qaI\">Check Live Class n51 if you don't know how</a>\n",
    "* Love for Robotics \n",
    "* ...that's it!!"
   ]
  },
  {
   "cell_type": "markdown",
   "metadata": {},
   "source": [
    "## Summit XL robot by Robotnik"
   ]
  },
  {
   "cell_type": "markdown",
   "metadata": {},
   "source": [
    "<img src=\"images/summit_xl_outside.png\">"
   ]
  },
  {
   "cell_type": "markdown",
   "metadata": {},
   "source": [
    "For this class we are going to use the Summit XL robot by <a href=\"\">Robotnik</a>. That is a robot that has the following characteristics:\n",
    "\n",
    "* Four wheels\n",
    "* Laser ranger\n",
    "* IMU\n",
    "* Camera\n",
    "* GPS\n",
    "\n",
    "In case you are interested on this robot, you can <a href=\"https://www.robotnik.eu/mobile-robots/summit-xl/\">find more information here</a>."
   ]
  },
  {
   "cell_type": "markdown",
   "metadata": {},
   "source": [
    "<img src=\"images/Summitxl_real.jpg\">"
   ]
  },
  {
   "cell_type": "markdown",
   "metadata": {},
   "source": [
    "### How to use this ROSject\n",
    "\n",
    "A <a href=\"http://rosjects.com\">**ROSject**</a> is a **ROS project** packaged in such a way that all the material it contains (**ROS code, Gazebo simulations and Notebooks**) can be shared with any body **using only a web link**. That is what we did with all the attendants to the Live Class, we shared this ROSject with them (so they can have access to all the ROS material they contain).\n",
    "\n",
    "**Check <a heref=\"https://www.youtube.com/watch?v=cR-Ow5K7oSo\">this webinar</a> to learn more about ROSjects and how to create your own ROSjects**.\n",
    "\n",
    "You will need to have a free account at the <a href=\"http://rosds.online\">ROS Development Studio</a> (ROSDS). Get the account and then follow the indications below."
   ]
  },
  {
   "cell_type": "markdown",
   "metadata": {},
   "source": [
    "## 0. Let's launch Summit XL in the outside simulation with GPS plugin"
   ]
  },
  {
   "cell_type": "markdown",
   "metadata": {},
   "source": [
    "For that you need to go to **Simulations->Select launch file**. Then select the only file available. After that you should get the following simulation"
   ]
  },
  {
   "cell_type": "markdown",
   "metadata": {},
   "source": [
    "<img src=\"images/summit_xl_out2.png\">"
   ]
  },
  {
   "cell_type": "markdown",
   "metadata": {},
   "source": [
    "## 1. Why to use GPS for robot navigation?"
   ]
  },
  {
   "cell_type": "markdown",
   "metadata": {},
   "source": [
    "Because you want to operate your robot in the outside, where there are minimal references that can allow you to create a map."
   ]
  },
  {
   "cell_type": "markdown",
   "metadata": {},
   "source": [
    "<img src=\"images/maxresdefault.jpg\">"
   ]
  },
  {
   "cell_type": "markdown",
   "metadata": {},
   "source": [
    "## 2. Why do we need odometry and IMU?"
   ]
  },
  {
   "cell_type": "markdown",
   "metadata": {},
   "source": [
    "Because GPS data has some limitations:\n",
    "\n",
    "\n",
    "* **GPS data is not very precise**: GPS data oscillates in value and your position will move a lot. This is unavoidable and you will have to mitigate that error in your own way. **Odometry** data will mitigate some of these errors, but not all of them because Summit XL wheels slide and this produces errors in the odometry. Bear that in mind.\n",
    "\n",
    "* **GPS gives you no orientation**: GPS only gives you a point in space, no orientation. This means that you need to complement that with a **compass** of some kind. Here is where **IMU** comes in handy."
   ]
  },
  {
   "cell_type": "markdown",
   "metadata": {},
   "source": [
    "## 3. Using *robot_localization* package for GPS navigation"
   ]
  },
  {
   "cell_type": "markdown",
   "metadata": {},
   "source": [
    "It is a package for mixing different sources of odometry into a more stable one."
   ]
  },
  {
   "cell_type": "markdown",
   "metadata": {},
   "source": [
    "<img src=\"images/robot_localization_graph3.png\" width=\"600\" />"
   ]
  },
  {
   "cell_type": "markdown",
   "metadata": {},
   "source": [
    "### 3.1 Launch map server with an empty map"
   ]
  },
  {
   "cell_type": "markdown",
   "metadata": {},
   "source": [
    "Because we want to use the **ROS Navigation stack** for GPS based navigation, we need to provide a map.\n",
    "\n",
    "However, because we are in the outside, we are going to provide a fake map, that is, a completely empty map."
   ]
  },
  {
   "cell_type": "markdown",
   "metadata": {},
   "source": [
    "#### Create a package named *gps_navigation*"
   ]
  },
  {
   "cell_type": "code",
   "execution_count": null,
   "metadata": {
    "collapsed": true
   },
   "outputs": [],
   "source": [
    "$ roscd\n",
    "$ cd ../src\n",
    "$ catkin_create_pkg gps_navigation"
   ]
  },
  {
   "cell_type": "markdown",
   "metadata": {},
   "source": [
    "#### Create the map data"
   ]
  },
  {
   "cell_type": "code",
   "execution_count": null,
   "metadata": {
    "collapsed": true
   },
   "outputs": [],
   "source": [
    "$ cd gps_navigation\n",
    "$ mkdir maps\n",
    "$ mkdir launch"
   ]
  },
  {
   "cell_type": "markdown",
   "metadata": {},
   "source": [
    "Copy the empty map provided with this rosject, from the */home/user* to the *maps* directoy.\n",
    "\n",
    "Then, create a *yaml* file named *mymap_empty.yaml* containing the configuration of that map."
   ]
  },
  {
   "cell_type": "code",
   "execution_count": null,
   "metadata": {
    "collapsed": true
   },
   "outputs": [],
   "source": [
    "image:  mymap_empty.pgm\n",
    "resolution: 0.050000\n",
    "origin: [-50.000000, -50.000000, 0.000000]\n",
    "negate: 0\n",
    "occupied_thresh: 0.65\n",
    "free_thresh: 0.196"
   ]
  },
  {
   "cell_type": "markdown",
   "metadata": {},
   "source": [
    "Finally, create a launch file named *start_map_server.launch* to launch the map server using that empty map:"
   ]
  },
  {
   "cell_type": "code",
   "execution_count": null,
   "metadata": {
    "collapsed": true
   },
   "outputs": [],
   "source": [
    "<launch>\n",
    "    <arg name=\"map_file\" default=\"$(find gps_navigation)/maps/mymap_empty.yaml\"/>\n",
    "    <node name=\"map_server\" pkg=\"map_server\" type=\"map_server\" args=\"$(arg map_file)\" />\n",
    "</launch>"
   ]
  },
  {
   "cell_type": "markdown",
   "metadata": {},
   "source": [
    "### 3.2. Convert GPS data into Odometry data"
   ]
  },
  {
   "cell_type": "markdown",
   "metadata": {},
   "source": [
    "We need to convert the GPS latitude and longitude data into XY coordinates that can be represented in 2D space.\n",
    "\n",
    "For that we are going to use the **navsat_transform_node** ROS node provided by the **robot_localization** package."
   ]
  },
  {
   "cell_type": "markdown",
   "metadata": {},
   "source": [
    "#### Create the launch file *start_navsat.launch*"
   ]
  },
  {
   "cell_type": "code",
   "execution_count": null,
   "metadata": {
    "collapsed": true
   },
   "outputs": [],
   "source": [
    "<launch>\n",
    " <!-- -->\n",
    "  <node pkg=\"robot_localization\" type=\"navsat_transform_node\" name=\"navsat_transform_node\" respawn=\"true\">\n",
    "\n",
    "    <param name=\"magnetic_declination_radians\" value=\"0\"/>\n",
    "    <param name=\"yaw_offset\" value=\"0\"/>\n",
    "    <param name=\"zero_altitude\" value=\"true\"/>\n",
    "    \n",
    "    \n",
    "    <param name=\"broadcast_utm_transform\" value=\"false\"/>\n",
    "    <param name=\"publish_filtered_gps\" value=\"false\"/>\n",
    "\n",
    "    \n",
    "    <param name=\"use_odometry_yaw\" value=\"false\"/>\n",
    "    <param name=\"wait_for_datum\" value=\"false\"/>\n",
    "    \n",
    "\n",
    "    <remap from=\"/imu/data\" to=\"/imu/data\" />\n",
    "    <remap from=\"/gps/fix\" to=\"/gps/fix\" />\n",
    "    <remap from=\"/odometry/filtered\" to=\"/odom\" />\n",
    "\n",
    "  </node>\n",
    "\n",
    "</launch>"
   ]
  },
  {
   "cell_type": "markdown",
   "metadata": {},
   "source": [
    "* **magnetic_declination_radians**: This parameter is needed if your IMU provides its orientation with respect to the magnetic north. It states the magnetic declination for your location (the difference between the **magnetic north** and the **true north**). If you don’t know it, you can calculate it here http://www.ngdc.noaa.gov/geomag-web (make sure to convert the value to radians).\n",
    "\n",
    "\n",
    "* **yaw_offset**: Your IMU should read 0 for yaw when facing east. If it doesn’t, enter the offset here (desired_value = offset + sensor_raw_value)\n",
    "\n",
    "\n",
    "* **zero_altitude**: If this is set to true, the Odometry message produced by this node has its pose Z value set to 0.\n",
    "\n",
    "* **broadcast_utm_transform**: This is in case you want to publish the static TF of the UTM (Origin of the GPS system) in the TF tree. \n",
    "\n",
    "\n",
    "* **publish_filtered_gps**: No mystery here, if you want it to publish improved odometry and IMU GPS data. If it's set to true, the *navsat_transform_node* will publish a sensor_msgs/NavSatFix message on the **/gps/filtered** topic.\n",
    "\n",
    "* **use_odometry_yaw**: This is for when you have a very reliable odometry turning system. In the case of robots outdoors, the turning data in odometry is reliable enough because they skid only once in a while, especially on rough terrain. That's why it's turned OFF here.\n",
    "\n",
    "\n",
    "* **wait_for_datum**: This is to give the system the datum directly, what is considered the origin of our GPS localization. Normally, it's the GPS that directly gives this data and that's why it's normaly turned off. If you need to give it for some reason, you will have to add the following param setting into this launch:"
   ]
  },
  {
   "cell_type": "code",
   "execution_count": null,
   "metadata": {
    "collapsed": true
   },
   "outputs": [],
   "source": [
    "<rosparam param=\"datum\">[55.944904, -3.186693, 0.0, map, base_link]</rosparam>"
   ]
  },
  {
   "cell_type": "markdown",
   "metadata": {},
   "source": [
    "### 3.3 Localize using GPS-odometry, robot odometry and IMU"
   ]
  },
  {
   "cell_type": "markdown",
   "metadata": {},
   "source": [
    "We repeat now the process we did on the previous Live Class n.51\n",
    "\n",
    "We use the **ekf_localization_node** from the **robot_localization** package to fuse the data of the **robot odometry**, **robot IMU** and **GPS odometry** generated with the **navsat_transform**."
   ]
  },
  {
   "cell_type": "markdown",
   "metadata": {},
   "source": [
    "#### Set the config file"
   ]
  },
  {
   "cell_type": "markdown",
   "metadata": {},
   "source": [
    "Create a *config* directory in the package and create there the config file for *ekf_localization*"
   ]
  },
  {
   "cell_type": "markdown",
   "metadata": {},
   "source": [
    "For that, we use a config file already provided to you in the */home/user* directory. File is called **gps_localization_config.yaml**"
   ]
  },
  {
   "cell_type": "markdown",
   "metadata": {},
   "source": [
    "**IMPORTANT**: note, though, that we are setting the **publish_tf** variable to true. This is very important because now we need to publish the *transform* from **odom** to **map**."
   ]
  },
  {
   "cell_type": "markdown",
   "metadata": {},
   "source": [
    "#### Create a launch file for the *ekf_localization* node"
   ]
  },
  {
   "cell_type": "markdown",
   "metadata": {},
   "source": [
    "Create a launch file named *ekf_localization.launch*:"
   ]
  },
  {
   "cell_type": "code",
   "execution_count": null,
   "metadata": {
    "collapsed": true
   },
   "outputs": [],
   "source": [
    "<launch>\n",
    "    <!-- Run the ekf for map to odom config -->\n",
    "    <node pkg=\"robot_localization\" type=\"ekf_localization_node\" name=\"ekf_localization_with_gps\"> \n",
    "        <rosparam command=\"load\" file=\"$(find gps_navigation)/config/gps_localization_config.yaml\" />\n",
    "    </node>\n",
    "</launch>"
   ]
  },
  {
   "cell_type": "markdown",
   "metadata": {},
   "source": [
    "### 3.4. Let's launch the whole navigation system based on GPS"
   ]
  },
  {
   "cell_type": "markdown",
   "metadata": {},
   "source": [
    "We need to create a launch file that launches:\n",
    "\n",
    "* The **map server** (to allow send goals)\n",
    "* The **move_base** (to send the goals)\n",
    "* The **GPS to odom** system\n",
    "* The **localization system** based on the GPS odom data and the other sensors\n",
    "\n",
    "Let's create that file with name *start_gps_nav.launch*:"
   ]
  },
  {
   "cell_type": "code",
   "execution_count": null,
   "metadata": {
    "collapsed": true
   },
   "outputs": [],
   "source": [
    "<launch>\n",
    "\n",
    "    <include file=\"$(find gps_navigation)/launch/start_navsat.launch\" />\n",
    "\n",
    "    <!-- Run the ekf for map to odom config -->\n",
    "    <include file=\"$(find gps_navigation)/launch/ekf_localization.launch\" />\n",
    "\n",
    "    <!-- Run the map server -->\n",
    "    <include file=\"$(find gps_navigation)/launch/start_map_server.launch\" />\n",
    "\n",
    "    <!--- Run Move Base -->\n",
    "    <include file=\"$(find my_move_base)/launch/my_move_base.launch\" />\n",
    "\n",
    "</launch>"
   ]
  },
  {
   "cell_type": "code",
   "execution_count": null,
   "metadata": {
    "collapsed": true
   },
   "outputs": [],
   "source": [
    "$ roslaunch gps_navigation start_gps_nav.launch"
   ]
  },
  {
   "cell_type": "markdown",
   "metadata": {},
   "source": [
    "## 4. Launch Rviz to see the robot localized, and send goals to it"
   ]
  },
  {
   "cell_type": "code",
   "execution_count": null,
   "metadata": {
    "collapsed": true
   },
   "outputs": [],
   "source": [
    "$ rosrun rviz rviz"
   ]
  },
  {
   "cell_type": "markdown",
   "metadata": {},
   "source": [
    "* Mission completed!!"
   ]
  },
  {
   "cell_type": "markdown",
   "metadata": {},
   "source": [
    "### Before you log off, remember to <span style=\"background: #098be8; padding: 10px; color:white;\">GIVE US A LIKE</span> and hit the <span style=\"background: #098be8; padding: 10px; color:white;\">THUMBS UP</span> and <span style=\"background: #098be8; padding: 10px; color:white;\">SUBSCRIBE</span> for more weekly tutorials!!!"
   ]
  },
  {
   "cell_type": "markdown",
   "metadata": {},
   "source": [
    "We have an online academy that teaches you more about how to make robots navigate with ROS using GPS or laser sensors, as well as all the details of all the parameters of the configuration. Check the following related courses:\n",
    "* <a href=\"http://www.theconstructsim.com/construct-learn-develop-robots-using-ros/robotigniteacademy_learnros/ros-courses-library/ros-robot-localization-package/\">Fuse sensor data to improve localization</a>\n",
    "* <a href=\"https://goo.gl/iog3x9\">Mastering with ROS: Summit XL robot</a>\n"
   ]
  },
  {
   "cell_type": "markdown",
   "metadata": {},
   "source": [
    " <a href=\"https://goo.gl/7ApVAp\"><img src=\"images/logos/RIAlogo.png\"></a>"
   ]
  },
  {
   "cell_type": "markdown",
   "metadata": {},
   "source": [
    "<img src=\"images/rosdevcon2.png\">"
   ]
  },
  {
   "cell_type": "markdown",
   "metadata": {},
   "source": [
    "A **hands on conference** where you will **learn and practice** at the same time **with the speakers**. \n",
    "\n",
    "It is an online conference with the same format of the Live Classes. You can attend from anywhere and will get a **rosject** with all the content of the speakers.\n",
    "\n",
    "#### 8 speakers - 8 practical ROS projects on a single weekend\n",
    "\n",
    "### You can also be a speaker of the conference. Check the call for papers\n",
    "\n",
    "### More information here: <a href=\"http://www.rosdevcon.com\">www.rosdevcon.com</a>\n",
    "\n",
    "### Check the videos of the previous ROSDevCon 2018 <a href=\"\">here</a>"
   ]
  },
  {
   "cell_type": "markdown",
   "metadata": {
    "collapsed": true
   },
   "source": [
    "# KEEP PUSHING YOUR ROS LEARNING!"
   ]
  },
  {
   "cell_type": "code",
   "execution_count": null,
   "metadata": {
    "collapsed": true
   },
   "outputs": [],
   "source": []
  }
 ],
 "metadata": {
  "kernelspec": {
   "display_name": "Python 2",
   "language": "python",
   "name": "python2"
  },
  "language_info": {
   "codemirror_mode": {
    "name": "ipython",
    "version": 2
   },
   "file_extension": ".py",
   "mimetype": "text/x-python",
   "name": "python",
   "nbconvert_exporter": "python",
   "pygments_lexer": "ipython2",
   "version": "2.7.16"
  }
 },
 "nbformat": 4,
 "nbformat_minor": 1
}
